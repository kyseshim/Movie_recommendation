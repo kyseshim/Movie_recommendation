{
 "cells": [
  {
   "cell_type": "markdown",
   "metadata": {},
   "source": [
    "[![Open In Colab](https://colab.research.google.com/assets/colab-badge.svg)](https://colab.research.google.com/github/srihari-tf/movie-recommendation-tfy/blob/main/Movie_Recommendation_Part_1.ipynb)\n"
   ]
  },
  {
   "cell_type": "code",
   "execution_count": 9,
   "metadata": {
    "ExecuteTime": {
     "end_time": "2022-09-22T15:26:44.114363Z",
     "start_time": "2022-09-22T15:26:40.363464Z"
    },
    "id": "2Iks9l7nSu7i"
   },
   "outputs": [
    {
     "name": "stdout",
     "output_type": "stream",
     "text": [
      "Collecting tensorflow_hub\n",
      "  Downloading tensorflow_hub-0.12.0-py2.py3-none-any.whl (108 kB)\n",
      "Requirement already satisfied: numpy>=1.12.0 in c:\\users\\user\\anaconda3\\lib\\site-packages (from tensorflow_hub) (1.20.1)\n",
      "Requirement already satisfied: protobuf>=3.8.0 in c:\\users\\user\\anaconda3\\lib\\site-packages (from tensorflow_hub) (3.19.5)\n",
      "Installing collected packages: tensorflow-hub\n",
      "Successfully installed tensorflow-hub-0.12.0\n"
     ]
    }
   ],
   "source": [
    "#!pip install -U --quiet mlfoundry\n",
    "#!pip install --quiet implicit\n",
    "#!pip install tensorflow\n",
    "#!pip install tensorflow_hub"
   ]
  },
  {
   "cell_type": "markdown",
   "metadata": {
    "id": "8HxrOIwMoUzn"
   },
   "source": [
    "## Let's load the datasets"
   ]
  },
  {
   "cell_type": "code",
   "execution_count": 2,
   "metadata": {
    "ExecuteTime": {
     "end_time": "2022-09-22T15:24:50.611636Z",
     "start_time": "2022-09-22T15:24:46.248762Z"
    },
    "colab": {
     "base_uri": "https://localhost:8080/"
    },
    "id": "k2pTfPnUD7Nm",
    "outputId": "7b24ceea-febd-4446-9d67-d91db9657fc9"
   },
   "outputs": [
    {
     "name": "stderr",
     "output_type": "stream",
     "text": [
      "C:\\Users\\USER\\anaconda3\\lib\\site-packages\\IPython\\core\\interactiveshell.py:3165: DtypeWarning: Columns (10) have mixed types.Specify dtype option on import or set low_memory=False.\n",
      "  has_raised = await self.run_ast_nodes(code_ast.body, cell_name,\n"
     ]
    }
   ],
   "source": [
    "# load our datasets as dataframes\n",
    "import pandas as pd\n",
    "\n",
    "movie_meta_df = pd.read_csv('https://raw.githubusercontent.com/srihari-tf/recommender-system-tfy/master/movies_metadata.csv')\n",
    "keywords_df = pd.read_csv('https://raw.githubusercontent.com/srihari-tf/recommender-system-tfy/master/keywords.csv')\n",
    "ratings_df = pd.read_csv(\"https://raw.githubusercontent.com/srihari-tf/recommender-system-tfy/master/ratings_small.csv\")"
   ]
  },
  {
   "cell_type": "code",
   "execution_count": 3,
   "metadata": {
    "ExecuteTime": {
     "end_time": "2022-09-22T15:25:00.961891Z",
     "start_time": "2022-09-22T15:24:58.413369Z"
    },
    "colab": {
     "base_uri": "https://localhost:8080/"
    },
    "id": "31dZrBIOAmZL",
    "outputId": "41991205-a0c8-46f8-98ca-b96aa813952e"
   },
   "outputs": [
    {
     "name": "stderr",
     "output_type": "stream",
     "text": [
      "  % Total    % Received % Xferd  Average Speed   Time    Time     Time  Current\n",
      "                                 Dload  Upload   Total   Spent    Left  Speed\n",
      "\n",
      "  0     0    0     0    0     0      0      0 --:--:-- --:--:-- --:--:--     0\n",
      "  0 32.8M    0  240k    0     0   322k      0  0:01:44 --:--:--  0:01:44  322k\n",
      "100 32.8M  100 32.8M    0     0  21.3M      0  0:00:01  0:00:01 --:--:-- 21.3M\n",
      "  % Total    % Received % Xferd  Average Speed   Time    Time     Time  Current\n",
      "                                 Dload  Upload   Total   Spent    Left  Speed\n",
      "\n",
      "  0     0    0     0    0     0      0      0 --:--:-- --:--:-- --:--:--     0\n",
      "  4 2381k    4  112k    0     0   682k      0  0:00:03 --:--:--  0:00:03  682k\n",
      "100 2381k  100 2381k    0     0  2702k      0 --:--:-- --:--:-- --:--:-- 2699k\n"
     ]
    }
   ],
   "source": [
    "!curl -O https://raw.githubusercontent.com/srihari-tf/recommender-system-tfy/master/movies_metadata.csv\n",
    "!curl -O https://raw.githubusercontent.com/srihari-tf/recommender-system-tfy/master/ratings_small.csv"
   ]
  },
  {
   "cell_type": "markdown",
   "metadata": {
    "id": "_2X9c-IaLRDu"
   },
   "source": [
    "## Take a look at the movie metadata"
   ]
  },
  {
   "cell_type": "code",
   "execution_count": 4,
   "metadata": {
    "ExecuteTime": {
     "end_time": "2022-09-22T15:25:04.024166Z",
     "start_time": "2022-09-22T15:25:03.993280Z"
    },
    "id": "ye-cRmUzo7gP"
   },
   "outputs": [],
   "source": [
    "movie_desc_df = movie_meta_df.copy()\n",
    "movie_desc_df = movie_desc_df[['overview', 'original_title', 'id']]\n",
    "movie_desc_df['overview'] = movie_desc_df['overview'].fillna('')"
   ]
  },
  {
   "cell_type": "code",
   "execution_count": 5,
   "metadata": {
    "ExecuteTime": {
     "end_time": "2022-09-22T15:25:13.514396Z",
     "start_time": "2022-09-22T15:25:13.509439Z"
    },
    "id": "pWiID8HQsdsQ"
   },
   "outputs": [],
   "source": [
    "# helper functions\n",
    "def get_movie_row_by_index(n):\n",
    "    return movie_desc_df.iloc[n]\n",
    "\n",
    "def get_movie_row_by_movie_id(id):\n",
    "    id = str(id)\n",
    "    return movie_desc_df[movie_desc_df['id'] == id][0]"
   ]
  },
  {
   "cell_type": "code",
   "execution_count": 10,
   "metadata": {
    "ExecuteTime": {
     "end_time": "2022-09-22T15:27:28.996820Z",
     "start_time": "2022-09-22T15:26:53.290607Z"
    },
    "colab": {
     "base_uri": "https://localhost:8080/"
    },
    "id": "gC2xaFlln9Xy",
    "outputId": "b5908fe4-30e3-44f7-a122-ecb046adb4c5"
   },
   "outputs": [
    {
     "name": "stdout",
     "output_type": "stream",
     "text": [
      "module https://tfhub.dev/google/universal-sentence-encoder/4 loaded\n"
     ]
    }
   ],
   "source": [
    "import tensorflow_hub as hub\n",
    "\n",
    "module_url = \"https://tfhub.dev/google/universal-sentence-encoder/4\"\n",
    "model = hub.load(module_url)\n",
    "print (\"module %s loaded\" % module_url)\n",
    "def embed(input):\n",
    "    return model(input)"
   ]
  },
  {
   "cell_type": "code",
   "execution_count": 11,
   "metadata": {
    "ExecuteTime": {
     "end_time": "2022-09-22T15:27:35.958048Z",
     "start_time": "2022-09-22T15:27:35.814750Z"
    },
    "id": "ZoRS_bj1s9OH"
   },
   "outputs": [],
   "source": [
    "import numpy as np\n",
    "from scipy.spatial import distance\n",
    "\n",
    "def get_most_similar_movie_index(embeddings, n, n_movies = 1):\n",
    "    distances = distance.cdist([embeddings[n]], embeddings, 'cosine')[0]\n",
    "    # get smiliar movies, remove 1st element as it is the same\n",
    "    return np.argsort(distances)[1:n_movies+1]"
   ]
  },
  {
   "cell_type": "code",
   "execution_count": 12,
   "metadata": {
    "ExecuteTime": {
     "end_time": "2022-09-22T15:27:46.759121Z",
     "start_time": "2022-09-22T15:27:37.391113Z"
    },
    "id": "dwIYTF3xo2OR"
   },
   "outputs": [],
   "source": [
    "embeddings = embed((movie_desc_df['overview'])).numpy()"
   ]
  },
  {
   "cell_type": "code",
   "execution_count": 13,
   "metadata": {
    "ExecuteTime": {
     "end_time": "2022-09-22T15:27:48.328493Z",
     "start_time": "2022-09-22T15:27:48.209836Z"
    },
    "colab": {
     "base_uri": "https://localhost:8080/"
    },
    "id": "eqagR1QWqFWj",
    "outputId": "be784aac-4fd7-4e51-9810-bf1be9e4b4dd"
   },
   "outputs": [
    {
     "data": {
      "text/plain": [
       "array([ 2997, 15348, 26211, 18263, 17290,  5214, 42721, 10491, 19976,\n",
       "       17189], dtype=int64)"
      ]
     },
     "execution_count": 13,
     "metadata": {},
     "output_type": "execute_result"
    }
   ],
   "source": [
    "get_most_similar_movie_index(embeddings, 0, 10)"
   ]
  },
  {
   "cell_type": "markdown",
   "metadata": {
    "id": "f42wGSpeowcg"
   },
   "source": [
    "## Train a collaborative filtering model using `implicit`"
   ]
  },
  {
   "cell_type": "code",
   "execution_count": 14,
   "metadata": {
    "ExecuteTime": {
     "end_time": "2022-09-22T15:27:50.365400Z",
     "start_time": "2022-09-22T15:27:50.346448Z"
    },
    "colab": {
     "base_uri": "https://localhost:8080/",
     "height": 206
    },
    "id": "Gx70tkFB4S8g",
    "outputId": "62cfef0e-e3e8-4725-ae30-1b666f61f893"
   },
   "outputs": [
    {
     "data": {
      "text/html": [
       "<div>\n",
       "<style scoped>\n",
       "    .dataframe tbody tr th:only-of-type {\n",
       "        vertical-align: middle;\n",
       "    }\n",
       "\n",
       "    .dataframe tbody tr th {\n",
       "        vertical-align: top;\n",
       "    }\n",
       "\n",
       "    .dataframe thead th {\n",
       "        text-align: right;\n",
       "    }\n",
       "</style>\n",
       "<table border=\"1\" class=\"dataframe\">\n",
       "  <thead>\n",
       "    <tr style=\"text-align: right;\">\n",
       "      <th></th>\n",
       "      <th>userId</th>\n",
       "      <th>movieId</th>\n",
       "      <th>rating</th>\n",
       "      <th>timestamp</th>\n",
       "    </tr>\n",
       "  </thead>\n",
       "  <tbody>\n",
       "    <tr>\n",
       "      <th>0</th>\n",
       "      <td>1</td>\n",
       "      <td>31</td>\n",
       "      <td>2.5</td>\n",
       "      <td>1260759144</td>\n",
       "    </tr>\n",
       "    <tr>\n",
       "      <th>1</th>\n",
       "      <td>1</td>\n",
       "      <td>1029</td>\n",
       "      <td>3.0</td>\n",
       "      <td>1260759179</td>\n",
       "    </tr>\n",
       "    <tr>\n",
       "      <th>2</th>\n",
       "      <td>1</td>\n",
       "      <td>1061</td>\n",
       "      <td>3.0</td>\n",
       "      <td>1260759182</td>\n",
       "    </tr>\n",
       "    <tr>\n",
       "      <th>3</th>\n",
       "      <td>1</td>\n",
       "      <td>1129</td>\n",
       "      <td>2.0</td>\n",
       "      <td>1260759185</td>\n",
       "    </tr>\n",
       "    <tr>\n",
       "      <th>4</th>\n",
       "      <td>1</td>\n",
       "      <td>1172</td>\n",
       "      <td>4.0</td>\n",
       "      <td>1260759205</td>\n",
       "    </tr>\n",
       "  </tbody>\n",
       "</table>\n",
       "</div>"
      ],
      "text/plain": [
       "   userId  movieId  rating   timestamp\n",
       "0       1       31     2.5  1260759144\n",
       "1       1     1029     3.0  1260759179\n",
       "2       1     1061     3.0  1260759182\n",
       "3       1     1129     2.0  1260759185\n",
       "4       1     1172     4.0  1260759205"
      ]
     },
     "execution_count": 14,
     "metadata": {},
     "output_type": "execute_result"
    }
   ],
   "source": [
    "ratings_df.head()"
   ]
  },
  {
   "cell_type": "code",
   "execution_count": 15,
   "metadata": {
    "ExecuteTime": {
     "end_time": "2022-09-22T15:27:54.970789Z",
     "start_time": "2022-09-22T15:27:54.951840Z"
    },
    "id": "UPnRgMoUfhMz"
   },
   "outputs": [],
   "source": [
    "ratings_df['userId'] = ratings_df['userId'].astype(\"category\")\n",
    "ratings_df['movieId'] = ratings_df['movieId'].astype(\"category\")"
   ]
  },
  {
   "cell_type": "code",
   "execution_count": 16,
   "metadata": {
    "ExecuteTime": {
     "end_time": "2022-09-22T15:28:02.980276Z",
     "start_time": "2022-09-22T15:28:02.974694Z"
    },
    "id": "vWUihYjT1e4N"
   },
   "outputs": [],
   "source": [
    "#helper functions\n",
    "def get_movie_id_from_cat_code(cat_code):\n",
    "    return ratings_df['movieId'].cat.categories[cat_code]\n",
    "\n",
    "def get_user_id_from_cat_code(cat_code):\n",
    "    return ratings_df['userId'].cat.categories[cat_code]\n",
    "\n",
    "def get_cat_code_from_user_id(user_id):\n",
    "    return ratings_df['userId'].cat.categories.get_loc(user_id)\n",
    "\n",
    "def get_cat_code_from_movie_id(movie_id):\n",
    "    return ratings_df['movieId'].cat.categories.get_loc(movie_id)"
   ]
  },
  {
   "cell_type": "code",
   "execution_count": 17,
   "metadata": {
    "ExecuteTime": {
     "end_time": "2022-09-22T15:28:04.438119Z",
     "start_time": "2022-09-22T15:28:04.431137Z"
    },
    "colab": {
     "base_uri": "https://localhost:8080/"
    },
    "id": "UzcZ_yvx5IIQ",
    "outputId": "2a3984cb-9abf-4182-b5be-2c3b8cdd4fa9"
   },
   "outputs": [
    {
     "name": "stdout",
     "output_type": "stream",
     "text": [
      "769\n",
      "58559\n"
     ]
    }
   ],
   "source": [
    "print(get_cat_code_from_movie_id(949))\n",
    "print(get_movie_id_from_cat_code(6892))"
   ]
  },
  {
   "cell_type": "code",
   "execution_count": 18,
   "metadata": {
    "ExecuteTime": {
     "end_time": "2022-09-22T15:28:06.284849Z",
     "start_time": "2022-09-22T15:28:06.266898Z"
    },
    "colab": {
     "base_uri": "https://localhost:8080/",
     "height": 206
    },
    "id": "IGPqgtuZ9ttJ",
    "outputId": "ce588925-ed0a-499e-958a-91db63f63770"
   },
   "outputs": [
    {
     "data": {
      "text/html": [
       "<div>\n",
       "<style scoped>\n",
       "    .dataframe tbody tr th:only-of-type {\n",
       "        vertical-align: middle;\n",
       "    }\n",
       "\n",
       "    .dataframe tbody tr th {\n",
       "        vertical-align: top;\n",
       "    }\n",
       "\n",
       "    .dataframe thead th {\n",
       "        text-align: right;\n",
       "    }\n",
       "</style>\n",
       "<table border=\"1\" class=\"dataframe\">\n",
       "  <thead>\n",
       "    <tr style=\"text-align: right;\">\n",
       "      <th></th>\n",
       "      <th>userId</th>\n",
       "      <th>movieId</th>\n",
       "      <th>rating</th>\n",
       "      <th>timestamp</th>\n",
       "    </tr>\n",
       "  </thead>\n",
       "  <tbody>\n",
       "    <tr>\n",
       "      <th>0</th>\n",
       "      <td>1</td>\n",
       "      <td>31</td>\n",
       "      <td>2.5</td>\n",
       "      <td>1260759144</td>\n",
       "    </tr>\n",
       "    <tr>\n",
       "      <th>1</th>\n",
       "      <td>1</td>\n",
       "      <td>1029</td>\n",
       "      <td>3.0</td>\n",
       "      <td>1260759179</td>\n",
       "    </tr>\n",
       "    <tr>\n",
       "      <th>2</th>\n",
       "      <td>1</td>\n",
       "      <td>1061</td>\n",
       "      <td>3.0</td>\n",
       "      <td>1260759182</td>\n",
       "    </tr>\n",
       "    <tr>\n",
       "      <th>3</th>\n",
       "      <td>1</td>\n",
       "      <td>1129</td>\n",
       "      <td>2.0</td>\n",
       "      <td>1260759185</td>\n",
       "    </tr>\n",
       "    <tr>\n",
       "      <th>4</th>\n",
       "      <td>1</td>\n",
       "      <td>1172</td>\n",
       "      <td>4.0</td>\n",
       "      <td>1260759205</td>\n",
       "    </tr>\n",
       "  </tbody>\n",
       "</table>\n",
       "</div>"
      ],
      "text/plain": [
       "  userId movieId  rating   timestamp\n",
       "0      1      31     2.5  1260759144\n",
       "1      1    1029     3.0  1260759179\n",
       "2      1    1061     3.0  1260759182\n",
       "3      1    1129     2.0  1260759185\n",
       "4      1    1172     4.0  1260759205"
      ]
     },
     "execution_count": 18,
     "metadata": {},
     "output_type": "execute_result"
    }
   ],
   "source": [
    "ratings_df.head()"
   ]
  },
  {
   "cell_type": "code",
   "execution_count": 19,
   "metadata": {
    "ExecuteTime": {
     "end_time": "2022-09-22T15:28:07.910600Z",
     "start_time": "2022-09-22T15:28:07.906611Z"
    },
    "id": "lvMo9Zr2ybCs"
   },
   "outputs": [],
   "source": [
    "ratings = ratings_df['rating']\n",
    "rows = ratings_df['userId'].cat.codes\n",
    "cols = ratings_df['movieId'].cat.codes"
   ]
  },
  {
   "cell_type": "code",
   "execution_count": 20,
   "metadata": {
    "ExecuteTime": {
     "end_time": "2022-09-22T15:28:09.101000Z",
     "start_time": "2022-09-22T15:28:09.089032Z"
    },
    "colab": {
     "base_uri": "https://localhost:8080/"
    },
    "id": "a6g1M6cT44w-",
    "outputId": "8677e075-f561-4b8a-ed84-a0f51086cb4f"
   },
   "outputs": [
    {
     "name": "stdout",
     "output_type": "stream",
     "text": [
      "0    2.5\n",
      "1    3.0\n",
      "2    3.0\n",
      "3    2.0\n",
      "4    4.0\n",
      "Name: rating, dtype: float64\n",
      "0    0\n",
      "1    0\n",
      "2    0\n",
      "3    0\n",
      "4    0\n",
      "dtype: int16\n",
      "0     30\n",
      "1    833\n",
      "2    859\n",
      "3    906\n",
      "4    931\n",
      "dtype: int16\n"
     ]
    }
   ],
   "source": [
    "print(ratings.head())\n",
    "print(rows.head())\n",
    "print(cols.head())"
   ]
  },
  {
   "cell_type": "code",
   "execution_count": 21,
   "metadata": {
    "ExecuteTime": {
     "end_time": "2022-09-22T15:28:11.110354Z",
     "start_time": "2022-09-22T15:28:11.106365Z"
    },
    "id": "UQXXT4Y50Gye"
   },
   "outputs": [],
   "source": [
    "from scipy.sparse import coo_matrix\n",
    "\n",
    "r = coo_matrix((ratings, (rows, cols)))"
   ]
  },
  {
   "cell_type": "code",
   "execution_count": 22,
   "metadata": {
    "ExecuteTime": {
     "end_time": "2022-09-22T15:28:13.250802Z",
     "start_time": "2022-09-22T15:28:13.229859Z"
    },
    "colab": {
     "base_uri": "https://localhost:8080/"
    },
    "id": "F75104OX5l_i",
    "outputId": "5f6bd022-8c7c-463c-c139-ff8a5a8221ee"
   },
   "outputs": [
    {
     "data": {
      "text/plain": [
       "2.0"
      ]
     },
     "execution_count": 22,
     "metadata": {},
     "output_type": "execute_result"
    }
   ],
   "source": [
    "# check that value for user 0, movie 30 is as expected\n",
    "r.toarray()[0][906]"
   ]
  },
  {
   "cell_type": "code",
   "execution_count": 23,
   "metadata": {
    "ExecuteTime": {
     "end_time": "2022-09-22T15:28:15.186136Z",
     "start_time": "2022-09-22T15:28:14.752606Z"
    },
    "colab": {
     "base_uri": "https://localhost:8080/",
     "height": 176,
     "referenced_widgets": [
      "a09e10c22f7c46d9adf3e337771a9b42",
      "9ed95b2fbe3c4fed88ad7f3ec78cd7cd",
      "2ce3e218944f45de84ed04deb6991800",
      "81007eeb108b40a4980e01793f4f1dda",
      "9c10feef16c94a34866df5ab7d1beff2",
      "b2fbf83c565b409fb75daf5eb3d83564",
      "8684a6b09b7949e7a5ae194751a684e0",
      "71187586f43843928cf33610d749b614",
      "d25745a8d7b647d6967b90d61b1577e0",
      "c44d4115d60a4987a9e0a5351e89a59b",
      "542c7f51c07342ea8f96bca9f643bdca"
     ]
    },
    "id": "UtPRn8qDXZE-",
    "outputId": "121ebe62-7323-4089-cfd5-d0b47f70c11c"
   },
   "outputs": [
    {
     "name": "stderr",
     "output_type": "stream",
     "text": [
      "C:\\Users\\USER\\anaconda3\\lib\\site-packages\\implicit\\utils.py:33: UserWarning: Intel MKL BLAS detected. Its highly recommend to set the environment variable 'export MKL_NUM_THREADS=1' to disable its internal multithreading\n",
      "  warnings.warn(\n",
      "C:\\Users\\USER\\anaconda3\\lib\\site-packages\\implicit\\utils.py:138: ParameterWarning: Method expects CSR input, and was passed coo_matrix instead. Converting to CSR took 0.000997781753540039 seconds\n",
      "  warnings.warn(\n"
     ]
    },
    {
     "data": {
      "application/vnd.jupyter.widget-view+json": {
       "model_id": "fd6072cef460449794c0c11aaa77fe70",
       "version_major": 2,
       "version_minor": 0
      },
      "text/plain": [
       "  0%|          | 0/15 [00:00<?, ?it/s]"
      ]
     },
     "metadata": {},
     "output_type": "display_data"
    }
   ],
   "source": [
    "import implicit\n",
    "\n",
    "model = implicit.als.AlternatingLeastSquares(factors=25)\n",
    "model.fit(r)"
   ]
  },
  {
   "cell_type": "code",
   "execution_count": 24,
   "metadata": {
    "ExecuteTime": {
     "end_time": "2022-09-22T15:28:20.304812Z",
     "start_time": "2022-09-22T15:28:20.293846Z"
    },
    "id": "3Z97WQCshYGQ"
   },
   "outputs": [],
   "source": [
    "def get_recommendation_for_user(user_id):\n",
    "    user_cat_code = get_cat_code_from_user_id(user_id)\n",
    "    return [get_movie_id_from_cat_code(cat_code) for cat_code in model.recommend(user_cat_code, r.tocsr().getrow(user_cat_code))[0]]"
   ]
  },
  {
   "cell_type": "code",
   "execution_count": 25,
   "metadata": {
    "ExecuteTime": {
     "end_time": "2022-09-22T15:28:21.785246Z",
     "start_time": "2022-09-22T15:28:21.776272Z"
    },
    "colab": {
     "base_uri": "https://localhost:8080/"
    },
    "id": "gawvG8n0O96i",
    "outputId": "7bc5416d-0911-4ba5-f15f-76f8e71e9700"
   },
   "outputs": [
    {
     "data": {
      "text/plain": [
       "[1374, 1127, 1204, 2529, 1272, 1262, 1275, 2019, 1276, 1376]"
      ]
     },
     "execution_count": 25,
     "metadata": {},
     "output_type": "execute_result"
    }
   ],
   "source": [
    "get_recommendation_for_user(1)"
   ]
  },
  {
   "cell_type": "markdown",
   "metadata": {
    "id": "Yb2cqnnlo1WU"
   },
   "source": [
    "## Save the model and log it to MLFoundry"
   ]
  },
  {
   "cell_type": "code",
   "execution_count": 33,
   "metadata": {
    "ExecuteTime": {
     "end_time": "2022-09-22T17:00:16.900018Z",
     "start_time": "2022-09-22T16:59:35.123638Z"
    },
    "colab": {
     "base_uri": "https://localhost:8080/"
    },
    "id": "45swTVIyKdcl",
    "outputId": "64c0c803-7468-4f24-85b0-e08aea012dae"
   },
   "outputs": [
    {
     "name": "stdout",
     "output_type": "stream",
     "text": [
      "Please get your API key from https://app.truefoundry.com/settings\n",
      "Paste your API key and hit enter:········\n",
      "Writing API key at C:\\Users\\USER\\.mlfoundry\\credentials.netrc\n",
      "[mlfoundry] 2022-09-22T12:00:08-0500 INFO No run_name given. Using a randomly generated name daffodil-dove. You can pass your own using the `run_name` argument\n",
      "[mlfoundry] 2022-09-22T12:00:09-0500 INFO project movie-recommendation does not exist. Creating movie-recommendation.\n",
      "Link to the dashboard for the run: https://app.truefoundry.com/mlfoundry/325/37c3c874e30e4840a35d10dc43cdaf1f/\n",
      "[mlfoundry] 2022-09-22T12:00:14-0500 WARNING failed to log git info because Reference at 'refs/heads/main' does not exist\n",
      "[mlfoundry] 2022-09-22T12:00:15-0500 INFO Run 'truefoundry/kyungseob-utdallas/movie-recommendation/daffodil-dove' has started.\n"
     ]
    },
    {
     "name": "stderr",
     "output_type": "stream",
     "text": [
      "Exception ignored in: <function MlFoundryRun.__del__ at 0x000001C361BC3AF0>\n",
      "Traceback (most recent call last):\n",
      "  File \"C:\\Users\\USER\\anaconda3\\lib\\site-packages\\mlfoundry\\mlfoundry_run.py\", line 232, in __del__\n",
      "    self._terminate_run_if_running(RunStatus.FINISHED)\n",
      "  File \"C:\\Users\\USER\\anaconda3\\lib\\site-packages\\mlfoundry\\mlfoundry_run.py\", line 212, in _terminate_run_if_running\n",
      "    current_status = self.status\n",
      "  File \"C:\\Users\\USER\\anaconda3\\lib\\site-packages\\mlfoundry\\mlfoundry_run.py\", line 149, in status\n",
      "    return self.mlflow_client.get_run(self.run_id).info.status\n",
      "  File \"C:\\Users\\USER\\anaconda3\\lib\\site-packages\\mlflow\\tracking\\client.py\", line 114, in get_run\n",
      "    return self._tracking_client.get_run(run_id)\n",
      "  File \"C:\\Users\\USER\\anaconda3\\lib\\site-packages\\mlflow\\tracking\\_tracking_service\\client.py\", line 94, in get_run\n",
      "    return self.store.get_run(run_id)\n",
      "  File \"C:\\Users\\USER\\anaconda3\\lib\\site-packages\\mlflow\\store\\tracking\\rest_store.py\", line 185, in get_run\n",
      "    response_proto = self._call_endpoint(GetRun, req_body)\n",
      "  File \"C:\\Users\\USER\\anaconda3\\lib\\site-packages\\mlflow\\store\\tracking\\rest_store.py\", line 89, in _call_endpoint\n",
      "    return call_endpoint(self.get_host_creds(), endpoint, method, json_body, response_proto)\n",
      "  File \"C:\\Users\\USER\\anaconda3\\lib\\site-packages\\mlflow\\utils\\rest_utils.py\", line 245, in call_endpoint\n",
      "    response = verify_rest_response(response, endpoint)\n",
      "  File \"C:\\Users\\USER\\anaconda3\\lib\\site-packages\\mlflow\\utils\\rest_utils.py\", line 174, in verify_rest_response\n",
      "    raise RestException(json.loads(response.text))\n",
      "mlflow.exceptions.RestException: PERMISSION_DENIED: User kyungseob-utdallas does not have READ access to EXPERIMENT 307\n"
     ]
    }
   ],
   "source": [
    "import mlfoundry\n",
    "mlfoundry.login(relogin = True)\n",
    "run = mlfoundry.get_client().create_run(project_name=\"movie-recommendation\")"
   ]
  },
  {
   "cell_type": "code",
   "execution_count": 35,
   "metadata": {
    "ExecuteTime": {
     "end_time": "2022-09-22T17:08:20.868386Z",
     "start_time": "2022-09-22T17:07:51.195988Z"
    },
    "colab": {
     "base_uri": "https://localhost:8080/"
    },
    "id": "PJhNYT8k_GwX",
    "outputId": "fc3e5682-320d-487d-c2c1-4dbd3c6540b5"
   },
   "outputs": [
    {
     "name": "stdout",
     "output_type": "stream",
     "text": [
      "[mlfoundry] 2022-09-22T12:07:51-0500 INFO Logging model and additional files, this might take a while ...\n",
      "[mlfoundry] 2022-09-22T12:07:51-0500 INFO Serializing model files to model version contents\n",
      "[mlfoundry] 2022-09-22T12:07:54-0500 INFO Packaging and uploading files to remote ...\n",
      "[mlfoundry] 2022-09-22T12:08:03-0500 WARNING pid=1748 thread=MLFSenderThread:80f887b424fe4f5bb6e0062d5a1df370 Encountered an internal error while trying to consume: PERMISSION_DENIED: User kyungseob-utdallas does not have WRITE access to EXPERIMENT 307\n",
      "[mlfoundry] 2022-09-22T12:08:20-0500 INFO Logged model successfully with fqn 'model:truefoundry/kyungseob-utdallas/movie-recommendation/reco-implicit:1'\n"
     ]
    }
   ],
   "source": [
    "model_version = run.log_model(\n",
    "    name=\"reco-implicit\",\n",
    "    model=model,\n",
    "    framework=\"sklearn\",\n",
    "    description=\"model trained for movie recommendation\"\n",
    ")"
   ]
  },
  {
   "cell_type": "code",
   "execution_count": 34,
   "metadata": {
    "ExecuteTime": {
     "end_time": "2022-09-22T17:06:53.975447Z",
     "start_time": "2022-09-22T17:05:30.425045Z"
    },
    "colab": {
     "base_uri": "https://localhost:8080/"
    },
    "id": "rotFCHWYA0Xt",
    "outputId": "a8aa3239-a976-4030-f142-3bb3e3328cd8"
   },
   "outputs": [
    {
     "name": "stdout",
     "output_type": "stream",
     "text": [
      "[mlfoundry] 2022-09-22T12:05:30-0500 INFO Logging 'dataset/ratings_small.csv' file as artifact to 'ratings_small.csv', this might take a while ...\n",
      "[mlfoundry] 2022-09-22T12:05:40-0500 INFO Logging 'dataset/movies_metadata.csv' file as artifact to 'movies_metadata.csv', this might take a while ...\n",
      "[mlfoundry] 2022-09-22T12:06:02-0500 WARNING pid=1748 thread=MLFSenderThread:80f887b424fe4f5bb6e0062d5a1df370 Encountered an internal error while trying to consume: PERMISSION_DENIED: User kyungseob-utdallas does not have WRITE access to EXPERIMENT 307\n"
     ]
    }
   ],
   "source": [
    "run.log_artifact('dataset/ratings_small.csv')\n",
    "run.log_artifact('dataset/movies_metadata.csv')"
   ]
  }
 ],
 "metadata": {
  "colab": {
   "collapsed_sections": [],
   "provenance": []
  },
  "kernelspec": {
   "display_name": "Python 3",
   "language": "python",
   "name": "python3"
  },
  "language_info": {
   "codemirror_mode": {
    "name": "ipython",
    "version": 3
   },
   "file_extension": ".py",
   "mimetype": "text/x-python",
   "name": "python",
   "nbconvert_exporter": "python",
   "pygments_lexer": "ipython3",
   "version": "3.8.8"
  },
  "varInspector": {
   "cols": {
    "lenName": 16,
    "lenType": 16,
    "lenVar": 40
   },
   "kernels_config": {
    "python": {
     "delete_cmd_postfix": "",
     "delete_cmd_prefix": "del ",
     "library": "var_list.py",
     "varRefreshCmd": "print(var_dic_list())"
    },
    "r": {
     "delete_cmd_postfix": ") ",
     "delete_cmd_prefix": "rm(",
     "library": "var_list.r",
     "varRefreshCmd": "cat(var_dic_list()) "
    }
   },
   "types_to_exclude": [
    "module",
    "function",
    "builtin_function_or_method",
    "instance",
    "_Feature"
   ],
   "window_display": false
  },
  "vscode": {
   "interpreter": {
    "hash": "4da2c687172dbc5787f57fefd92f9202761e12795eef0d6c97cfee63663ebb54"
   }
  },
  "widgets": {
   "application/vnd.jupyter.widget-state+json": {
    "2ce3e218944f45de84ed04deb6991800": {
     "model_module": "@jupyter-widgets/controls",
     "model_module_version": "1.5.0",
     "model_name": "FloatProgressModel",
     "state": {
      "_dom_classes": [],
      "_model_module": "@jupyter-widgets/controls",
      "_model_module_version": "1.5.0",
      "_model_name": "FloatProgressModel",
      "_view_count": null,
      "_view_module": "@jupyter-widgets/controls",
      "_view_module_version": "1.5.0",
      "_view_name": "ProgressView",
      "bar_style": "success",
      "description": "",
      "description_tooltip": null,
      "layout": "IPY_MODEL_71187586f43843928cf33610d749b614",
      "max": 15,
      "min": 0,
      "orientation": "horizontal",
      "style": "IPY_MODEL_d25745a8d7b647d6967b90d61b1577e0",
      "value": 15
     }
    },
    "542c7f51c07342ea8f96bca9f643bdca": {
     "model_module": "@jupyter-widgets/controls",
     "model_module_version": "1.5.0",
     "model_name": "DescriptionStyleModel",
     "state": {
      "_model_module": "@jupyter-widgets/controls",
      "_model_module_version": "1.5.0",
      "_model_name": "DescriptionStyleModel",
      "_view_count": null,
      "_view_module": "@jupyter-widgets/base",
      "_view_module_version": "1.2.0",
      "_view_name": "StyleView",
      "description_width": ""
     }
    },
    "71187586f43843928cf33610d749b614": {
     "model_module": "@jupyter-widgets/base",
     "model_module_version": "1.2.0",
     "model_name": "LayoutModel",
     "state": {
      "_model_module": "@jupyter-widgets/base",
      "_model_module_version": "1.2.0",
      "_model_name": "LayoutModel",
      "_view_count": null,
      "_view_module": "@jupyter-widgets/base",
      "_view_module_version": "1.2.0",
      "_view_name": "LayoutView",
      "align_content": null,
      "align_items": null,
      "align_self": null,
      "border": null,
      "bottom": null,
      "display": null,
      "flex": null,
      "flex_flow": null,
      "grid_area": null,
      "grid_auto_columns": null,
      "grid_auto_flow": null,
      "grid_auto_rows": null,
      "grid_column": null,
      "grid_gap": null,
      "grid_row": null,
      "grid_template_areas": null,
      "grid_template_columns": null,
      "grid_template_rows": null,
      "height": null,
      "justify_content": null,
      "justify_items": null,
      "left": null,
      "margin": null,
      "max_height": null,
      "max_width": null,
      "min_height": null,
      "min_width": null,
      "object_fit": null,
      "object_position": null,
      "order": null,
      "overflow": null,
      "overflow_x": null,
      "overflow_y": null,
      "padding": null,
      "right": null,
      "top": null,
      "visibility": null,
      "width": null
     }
    },
    "81007eeb108b40a4980e01793f4f1dda": {
     "model_module": "@jupyter-widgets/controls",
     "model_module_version": "1.5.0",
     "model_name": "HTMLModel",
     "state": {
      "_dom_classes": [],
      "_model_module": "@jupyter-widgets/controls",
      "_model_module_version": "1.5.0",
      "_model_name": "HTMLModel",
      "_view_count": null,
      "_view_module": "@jupyter-widgets/controls",
      "_view_module_version": "1.5.0",
      "_view_name": "HTMLView",
      "description": "",
      "description_tooltip": null,
      "layout": "IPY_MODEL_c44d4115d60a4987a9e0a5351e89a59b",
      "placeholder": "​",
      "style": "IPY_MODEL_542c7f51c07342ea8f96bca9f643bdca",
      "value": " 15/15 [00:10&lt;00:00,  1.15it/s]"
     }
    },
    "8684a6b09b7949e7a5ae194751a684e0": {
     "model_module": "@jupyter-widgets/controls",
     "model_module_version": "1.5.0",
     "model_name": "DescriptionStyleModel",
     "state": {
      "_model_module": "@jupyter-widgets/controls",
      "_model_module_version": "1.5.0",
      "_model_name": "DescriptionStyleModel",
      "_view_count": null,
      "_view_module": "@jupyter-widgets/base",
      "_view_module_version": "1.2.0",
      "_view_name": "StyleView",
      "description_width": ""
     }
    },
    "9c10feef16c94a34866df5ab7d1beff2": {
     "model_module": "@jupyter-widgets/base",
     "model_module_version": "1.2.0",
     "model_name": "LayoutModel",
     "state": {
      "_model_module": "@jupyter-widgets/base",
      "_model_module_version": "1.2.0",
      "_model_name": "LayoutModel",
      "_view_count": null,
      "_view_module": "@jupyter-widgets/base",
      "_view_module_version": "1.2.0",
      "_view_name": "LayoutView",
      "align_content": null,
      "align_items": null,
      "align_self": null,
      "border": null,
      "bottom": null,
      "display": null,
      "flex": null,
      "flex_flow": null,
      "grid_area": null,
      "grid_auto_columns": null,
      "grid_auto_flow": null,
      "grid_auto_rows": null,
      "grid_column": null,
      "grid_gap": null,
      "grid_row": null,
      "grid_template_areas": null,
      "grid_template_columns": null,
      "grid_template_rows": null,
      "height": null,
      "justify_content": null,
      "justify_items": null,
      "left": null,
      "margin": null,
      "max_height": null,
      "max_width": null,
      "min_height": null,
      "min_width": null,
      "object_fit": null,
      "object_position": null,
      "order": null,
      "overflow": null,
      "overflow_x": null,
      "overflow_y": null,
      "padding": null,
      "right": null,
      "top": null,
      "visibility": null,
      "width": null
     }
    },
    "9ed95b2fbe3c4fed88ad7f3ec78cd7cd": {
     "model_module": "@jupyter-widgets/controls",
     "model_module_version": "1.5.0",
     "model_name": "HTMLModel",
     "state": {
      "_dom_classes": [],
      "_model_module": "@jupyter-widgets/controls",
      "_model_module_version": "1.5.0",
      "_model_name": "HTMLModel",
      "_view_count": null,
      "_view_module": "@jupyter-widgets/controls",
      "_view_module_version": "1.5.0",
      "_view_name": "HTMLView",
      "description": "",
      "description_tooltip": null,
      "layout": "IPY_MODEL_b2fbf83c565b409fb75daf5eb3d83564",
      "placeholder": "​",
      "style": "IPY_MODEL_8684a6b09b7949e7a5ae194751a684e0",
      "value": "100%"
     }
    },
    "a09e10c22f7c46d9adf3e337771a9b42": {
     "model_module": "@jupyter-widgets/controls",
     "model_module_version": "1.5.0",
     "model_name": "HBoxModel",
     "state": {
      "_dom_classes": [],
      "_model_module": "@jupyter-widgets/controls",
      "_model_module_version": "1.5.0",
      "_model_name": "HBoxModel",
      "_view_count": null,
      "_view_module": "@jupyter-widgets/controls",
      "_view_module_version": "1.5.0",
      "_view_name": "HBoxView",
      "box_style": "",
      "children": [
       "IPY_MODEL_9ed95b2fbe3c4fed88ad7f3ec78cd7cd",
       "IPY_MODEL_2ce3e218944f45de84ed04deb6991800",
       "IPY_MODEL_81007eeb108b40a4980e01793f4f1dda"
      ],
      "layout": "IPY_MODEL_9c10feef16c94a34866df5ab7d1beff2"
     }
    },
    "b2fbf83c565b409fb75daf5eb3d83564": {
     "model_module": "@jupyter-widgets/base",
     "model_module_version": "1.2.0",
     "model_name": "LayoutModel",
     "state": {
      "_model_module": "@jupyter-widgets/base",
      "_model_module_version": "1.2.0",
      "_model_name": "LayoutModel",
      "_view_count": null,
      "_view_module": "@jupyter-widgets/base",
      "_view_module_version": "1.2.0",
      "_view_name": "LayoutView",
      "align_content": null,
      "align_items": null,
      "align_self": null,
      "border": null,
      "bottom": null,
      "display": null,
      "flex": null,
      "flex_flow": null,
      "grid_area": null,
      "grid_auto_columns": null,
      "grid_auto_flow": null,
      "grid_auto_rows": null,
      "grid_column": null,
      "grid_gap": null,
      "grid_row": null,
      "grid_template_areas": null,
      "grid_template_columns": null,
      "grid_template_rows": null,
      "height": null,
      "justify_content": null,
      "justify_items": null,
      "left": null,
      "margin": null,
      "max_height": null,
      "max_width": null,
      "min_height": null,
      "min_width": null,
      "object_fit": null,
      "object_position": null,
      "order": null,
      "overflow": null,
      "overflow_x": null,
      "overflow_y": null,
      "padding": null,
      "right": null,
      "top": null,
      "visibility": null,
      "width": null
     }
    },
    "c44d4115d60a4987a9e0a5351e89a59b": {
     "model_module": "@jupyter-widgets/base",
     "model_module_version": "1.2.0",
     "model_name": "LayoutModel",
     "state": {
      "_model_module": "@jupyter-widgets/base",
      "_model_module_version": "1.2.0",
      "_model_name": "LayoutModel",
      "_view_count": null,
      "_view_module": "@jupyter-widgets/base",
      "_view_module_version": "1.2.0",
      "_view_name": "LayoutView",
      "align_content": null,
      "align_items": null,
      "align_self": null,
      "border": null,
      "bottom": null,
      "display": null,
      "flex": null,
      "flex_flow": null,
      "grid_area": null,
      "grid_auto_columns": null,
      "grid_auto_flow": null,
      "grid_auto_rows": null,
      "grid_column": null,
      "grid_gap": null,
      "grid_row": null,
      "grid_template_areas": null,
      "grid_template_columns": null,
      "grid_template_rows": null,
      "height": null,
      "justify_content": null,
      "justify_items": null,
      "left": null,
      "margin": null,
      "max_height": null,
      "max_width": null,
      "min_height": null,
      "min_width": null,
      "object_fit": null,
      "object_position": null,
      "order": null,
      "overflow": null,
      "overflow_x": null,
      "overflow_y": null,
      "padding": null,
      "right": null,
      "top": null,
      "visibility": null,
      "width": null
     }
    },
    "d25745a8d7b647d6967b90d61b1577e0": {
     "model_module": "@jupyter-widgets/controls",
     "model_module_version": "1.5.0",
     "model_name": "ProgressStyleModel",
     "state": {
      "_model_module": "@jupyter-widgets/controls",
      "_model_module_version": "1.5.0",
      "_model_name": "ProgressStyleModel",
      "_view_count": null,
      "_view_module": "@jupyter-widgets/base",
      "_view_module_version": "1.2.0",
      "_view_name": "StyleView",
      "bar_color": null,
      "description_width": ""
     }
    }
   }
  }
 },
 "nbformat": 4,
 "nbformat_minor": 1
}
